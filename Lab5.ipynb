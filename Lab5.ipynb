{
 "cells": [
  {
   "cell_type": "code",
   "execution_count": 1,
   "metadata": {},
   "outputs": [
    {
     "name": "stdout",
     "output_type": "stream",
     "text": [
      "Trapezoid method for n2+1 points =  1.933765598092805\n",
      "Trapezoid method for n2*2+1 points =  1.9835235375094544\n",
      "Runge formulation for trapezoid method =  2.000109517315004\n",
      "Simpson method for n2*2+1 points =  1.8706687813999732\n",
      "Integral for sin(x)dx from 0 to pi = 2\n"
     ]
    }
   ],
   "source": [
    "import math\n",
    "f = lambda x: math.sin(x) \n",
    "\n",
    "def trap(fint, a, b, n):\n",
    "    h = (b-a)/(n-1)\n",
    "    s = fint(a) * h / 2\n",
    "    for i in range(2, n):\n",
    "        x = a + h * (i - 1)\n",
    "        s += fint(x) * h\n",
    "    s += fint(b) * h / 2\n",
    "    return s\n",
    "\n",
    "def simpson(fint, a, b, n2):\n",
    "    h = (b-a)/(n2*2)\n",
    "    s = fint(a) * h/3\n",
    "    for i in range(1, n2):\n",
    "        x = a + h*2*i\n",
    "        s += (4 * fint(x-h) + 2*fint(x)) / 3 * h\n",
    "    s -= fint(b) * h / 3\n",
    "    return s\n",
    "\n",
    "a = 0\n",
    "b = math.pi\n",
    "n2 = 5\n",
    "s = trap(f, a, b, n2 + 1)\n",
    "s1 = trap(f, a, b, n2 * 2 + 1)\n",
    "print(\"Trapezoid method for n2+1 points = \", s)\n",
    "print(\"Trapezoid method for n2*2+1 points = \", s1)\n",
    "s1 = 4/3 * s1 - s / 3\n",
    "print(\"Runge formulation for trapezoid method = \", s1)\n",
    "s = simpson(f, a, b, n2)\n",
    "print(\"Simpson method for n2*2+1 points = \", s)\n",
    "print(\"Integral for sin(x)dx from 0 to pi = 2\")"
   ]
  },
  {
   "cell_type": "code",
   "execution_count": null,
   "metadata": {},
   "outputs": [],
   "source": []
  }
 ],
 "metadata": {
  "kernelspec": {
   "display_name": "Python 3",
   "language": "python",
   "name": "python3"
  },
  "language_info": {
   "codemirror_mode": {
    "name": "ipython",
    "version": 3
   },
   "file_extension": ".py",
   "mimetype": "text/x-python",
   "name": "python",
   "nbconvert_exporter": "python",
   "pygments_lexer": "ipython3",
   "version": "3.8.5"
  }
 },
 "nbformat": 4,
 "nbformat_minor": 5
}
